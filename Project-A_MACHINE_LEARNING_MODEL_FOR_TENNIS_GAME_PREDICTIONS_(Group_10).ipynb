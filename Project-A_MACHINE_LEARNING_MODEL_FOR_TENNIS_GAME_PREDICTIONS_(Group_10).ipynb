{
 "cells": [
  {
   "cell_type": "markdown",
   "metadata": {},
   "source": [
    "# A MACHINE LEARNING MODEL FOR TENNIS GAME PREDICTIONS"
   ]
  },
  {
   "cell_type": "markdown",
   "metadata": {},
   "source": [
    "#### Group 10\n",
    "#### Team Members: Godfred Somua-Gyimah, Bharath Chowdary Ballamudi"
   ]
  },
  {
   "cell_type": "markdown",
   "metadata": {},
   "source": [
    "## Introduction"
   ]
  },
  {
   "cell_type": "raw",
   "metadata": {},
   "source": [
    "According to a recent study (Pempus, 2015), sports betting is currently a $1.3 Trillion industry globally. In 2014, almost $4 billion was spent on sports betting in Nevada alone and these figures continue to rise. Generally, most seasoned gamblers rely on their deep domain knowledge to place bets. On the other hand, most low-risk gamblers and bettors with limited domain knowledge generally depend on the betting odds of one or a few bookmakers. Nonetheless, betting losses continue to increase in both cases. It is estimated that American gamblers recorded the highest gambling loss ($119 billion) worldwide in 2013 (Aziz, 2014). \n",
    "\n",
    "Tennis is undoubtedly one of the most popular sports in the world. The increase in popularity of the sport, coupled with the expansion of the online sports betting market, has led to a significant rise in the volume of tennis bets recently. The potential profit, as well as academic interest, has fuelled the search for accurate tennis match prediction algorithms(Sipko, 2015). \n",
    "\n",
    "Current prediction algorithms vary in the type of features used in building the model as well as in their prediction methods. Barnett and Clarke (2005) and O’Malley (2008) have developed stochastic tennis prediction models using Markov chains. Both models considered the probability of a player winning individual points or complete sets, based on previous serve statistics of both players. The eventual outcome of a match is then determined by the probability of each player, winning a point during their serve(Sipko, 2015). Knottenbelt (2012) built on this original approach and suggested a model, which only uses both players' performances against common opponents, rather than their average statistics across all opponents. Madurska (2012) later modified Knottenbelt's model to accommodate the changes in player performance from one set to the next.  \n",
    "\n",
    "While several models exist for varied tennis prediction purposes, very few use Machine Learning approaches. Of all the ML models, Logistic Regression and Artificial Neural Network (ANN), are the most widely found in published literature on tennis match predictions. The Association of Tennis Professionals (ATP) have a rating system which ranks all professional tennis players, based on their accummulated points from games. Based on the outcome of a new game and the current ranking / points rating of the two players, the point addition and deduction are determined for the winner and loser respectively. Clarke and Dyte (2009) developed a logistic regression model using this feature. Their model based game outcome predictions on the difference in rating points between the two players. However, their model was limited, since the use of the single feature, rank_difference, implied inherent bias in favor of the higher-ranked player. Ma et al.(2013) also built a logistic regression model based on 16 features comprising player characteristics, performance and match statistics. However, all the models mentioned above, did not provide any specific figures on prediction accuracy. Somboonphokkaphan (2009) presented a 3-layer feed-forward Artificial Neural Network using 27 features which comprised of player and match statistics. Whilst the author reported a 75% prediction accuracy, the model was built using data from only two tournaments (2007 and 2008 Grand Slam). It is therefore difficult to predict the model's performance for the general case or for  other major tournaments.\n",
    "\n",
    "The objective of this study is to build a tennis model, that can be generalized over all major tournaments with acceptable prediction accuracy.   "
   ]
  },
  {
   "cell_type": "markdown",
   "metadata": {},
   "source": [
    "## Data Collection"
   ]
  },
  {
   "cell_type": "raw",
   "metadata": {},
   "source": [
    "In this project, we will attempt to build a model for predicting the outcome of sports competitions but the specific case of Tennis betting will be used as an illustration. A dataset containing the tournament statistics of all major Tennis competitions from 2010 to 2016 was compiled using information obtained from http://www.tennis-data.co.uk/alldata.php. The original data set for each year had forty (40) features which included the following:\n",
    "\n",
    "ATP = Tournament number \n",
    
    "Location = Venue of tournament\n",
    
    "Tournament = Name of tounament (including sponsor if relevant)\n",
    
    "Data = Date of match \n",
    
    "Series = Name of ATP tennis series (Grand Slam, Masters, International or International Gold)\n",
    
    "Court = Type of court (outdoors or indoors)\n",
    
    "Surface = Type of surface (clay, hard, carpet or grass)\n",
    
    "Round = Round of match\n",
    
    "Best of = Maximum number of sets playable in match\n",
    
    "Winner = Match winner\n",
    
    "Loser = Match loser\n",
    
    "WRank = ATP Entry ranking of the match winner as of the start of the tournament\n",
    
    "LRank = ATP Entry ranking of the match loser as of the start of the tournament\n",
    
    "WPts = ATP Entry points of the match winner as of the start of the tournament\n",
    
    "LPts = ATP Entry points of the match loser as of the start of the tournament\n",
    
    "W1 = Number of games won in 1st set by match winner\n",
    
    "L1 = Number of games won in 1st set by match loser\n",
    
    "W2 = Number of games won in 2nd set by match winner\n",
    
    "L2 = Number of games won in 2nd set by match loser\n",
    
    "W3 = Number of games won in 3rd set by match winner\n",
    
    "L3 = Number of games won in 3rd set by match loser\n",
    
    "W4 = Number of games won in 4th set by match winner\n",
    
    "L4 = Number of games won in 4th set by match loser\n",
    
    "W5 = Number of games won in 5th set by match winner\n",
    
    "L5 = Number of games won in 5th set by match loser\n",
    
    "Wsets = Number of sets won by match winner\n",
    
    "Lsets = Number of sets won by match loser\n",
    
    "Comment = Comment on the match (Completed, won through retirement of loser, or via Walkover)\n",
    
    "B365W = Bet365 odds of match winner\n",
    
    "B365L = Bet365 odds of match loser\n",
    
    "B&WW = Bet&Win odds of match winner\n",
    
    "B&WL = Bet&Win odds of match loser\n",
    
    "EXW = Expekt odds of match winner\n",
    
    "EXL = Expekt odds of match loser\n",
    
    "LBW = Ladbrokes odds of match winner\n",
    
    "LBL = Ladbrokes odds of match loser\n",
    
    "PSW = Pinnacles Sports odds of match winner\n",
    
    "PSL = Pinnacles Sports odds of match loser\n",
    
    "MaxW = The highest odd of match winner\n",
    
    "MaxL = The highest odd of match loser\n",
    
    "AvgW = The average odd of match winner\n",
    
    "AvgL = The average odd of match loser"
   ]
  },
  {
   "cell_type": "code",
   "execution_count": 1,
   "metadata": {
    "collapsed": false
   },
   "outputs": [],
   "source": [
    "import pandas as pd\n",
    "Tennisdata = pd.read_csv(\"F:/Data_Files/TennisData/Best_data/Men_Tennis.csv\")"
   ]
  },
  {
   "cell_type": "code",
   "execution_count": 2,
   "metadata": {
    "collapsed": false
   },
   "outputs": [
    {
     "data": {
      "text/html": [
       "<div>\n",
       "<table border=\"1\" class=\"dataframe\">\n",
       "  <thead>\n",
       "    <tr style=\"text-align: right;\">\n",
       "      <th></th>\n",
       "      <th>ATP</th>\n",
       "      <th>Location</th>\n",
       "      <th>Tournament</th>\n",
       "      <th>Date</th>\n",
       "      <th>Series</th>\n",
       "      <th>Court</th>\n",
       "      <th>Surface</th>\n",
       "      <th>Round</th>\n",
       "      <th>Best of</th>\n",
       "      <th>Winner</th>\n",
       "      <th>...</th>\n",
       "      <th>EXW</th>\n",
       "      <th>EXL</th>\n",
       "      <th>LBW</th>\n",
       "      <th>LBL</th>\n",
       "      <th>PSW</th>\n",
       "      <th>PSL</th>\n",
       "      <th>MaxW</th>\n",
       "      <th>MaxL</th>\n",
       "      <th>AvgW</th>\n",
       "      <th>AvgL</th>\n",
       "    </tr>\n",
       "  </thead>\n",
       "  <tbody>\n",
       "    <tr>\n",
       "      <th>0</th>\n",
       "      <td>1</td>\n",
       "      <td>Brisbane</td>\n",
       "      <td>Brisbane International</td>\n",
       "      <td>1/4/2016</td>\n",
       "      <td>ATP250</td>\n",
       "      <td>1</td>\n",
       "      <td>1</td>\n",
       "      <td>1</td>\n",
       "      <td>3</td>\n",
       "      <td>Dimitrov G.</td>\n",
       "      <td>...</td>\n",
       "      <td>1.68</td>\n",
       "      <td>2.10</td>\n",
       "      <td>1.62</td>\n",
       "      <td>2.25</td>\n",
       "      <td>1.68</td>\n",
       "      <td>2.31</td>\n",
       "      <td>1.68</td>\n",
       "      <td>2.31</td>\n",
       "      <td>1.66</td>\n",
       "      <td>2.19</td>\n",
       "    </tr>\n",
       "    <tr>\n",
       "      <th>1</th>\n",
       "      <td>1</td>\n",
       "      <td>Brisbane</td>\n",
       "      <td>Brisbane International</td>\n",
       "      <td>1/4/2016</td>\n",
       "      <td>ATP250</td>\n",
       "      <td>1</td>\n",
       "      <td>1</td>\n",
       "      <td>1</td>\n",
       "      <td>3</td>\n",
       "      <td>Kudla D.</td>\n",
       "      <td>...</td>\n",
       "      <td>1.58</td>\n",
       "      <td>2.35</td>\n",
       "      <td>1.53</td>\n",
       "      <td>2.50</td>\n",
       "      <td>1.63</td>\n",
       "      <td>2.40</td>\n",
       "      <td>1.63</td>\n",
       "      <td>2.50</td>\n",
       "      <td>1.57</td>\n",
       "      <td>2.41</td>\n",
       "    </tr>\n",
       "    <tr>\n",
       "      <th>2</th>\n",
       "      <td>1</td>\n",
       "      <td>Brisbane</td>\n",
       "      <td>Brisbane International</td>\n",
       "      <td>1/4/2016</td>\n",
       "      <td>ATP250</td>\n",
       "      <td>1</td>\n",
       "      <td>1</td>\n",
       "      <td>1</td>\n",
       "      <td>3</td>\n",
       "      <td>Kamke T.</td>\n",
       "      <td>...</td>\n",
       "      <td>1.82</td>\n",
       "      <td>1.90</td>\n",
       "      <td>1.80</td>\n",
       "      <td>2.00</td>\n",
       "      <td>1.90</td>\n",
       "      <td>1.99</td>\n",
       "      <td>1.90</td>\n",
       "      <td>2.00</td>\n",
       "      <td>1.81</td>\n",
       "      <td>1.97</td>\n",
       "    </tr>\n",
       "    <tr>\n",
       "      <th>3</th>\n",
       "      <td>1</td>\n",
       "      <td>Brisbane</td>\n",
       "      <td>Brisbane International</td>\n",
       "      <td>1/4/2016</td>\n",
       "      <td>ATP250</td>\n",
       "      <td>1</td>\n",
       "      <td>1</td>\n",
       "      <td>1</td>\n",
       "      <td>3</td>\n",
       "      <td>Chung H.</td>\n",
       "      <td>...</td>\n",
       "      <td>1.82</td>\n",
       "      <td>1.90</td>\n",
       "      <td>1.73</td>\n",
       "      <td>2.10</td>\n",
       "      <td>1.93</td>\n",
       "      <td>1.96</td>\n",
       "      <td>1.93</td>\n",
       "      <td>2.10</td>\n",
       "      <td>1.83</td>\n",
       "      <td>1.95</td>\n",
       "    </tr>\n",
       "    <tr>\n",
       "      <th>4</th>\n",
       "      <td>1</td>\n",
       "      <td>Brisbane</td>\n",
       "      <td>Brisbane International</td>\n",
       "      <td>1/5/2016</td>\n",
       "      <td>ATP250</td>\n",
       "      <td>1</td>\n",
       "      <td>1</td>\n",
       "      <td>1</td>\n",
       "      <td>3</td>\n",
       "      <td>Goffin D.</td>\n",
       "      <td>...</td>\n",
       "      <td>1.30</td>\n",
       "      <td>3.40</td>\n",
       "      <td>1.29</td>\n",
       "      <td>3.75</td>\n",
       "      <td>1.31</td>\n",
       "      <td>3.74</td>\n",
       "      <td>1.31</td>\n",
       "      <td>3.75</td>\n",
       "      <td>1.30</td>\n",
       "      <td>3.60</td>\n",
       "    </tr>\n",
       "  </tbody>\n",
       "</table>\n",
       "<p>5 rows × 40 columns</p>\n",
       "</div>"
      ],
      "text/plain": [
       "   ATP  Location              Tournament      Date  Series  Court  Surface  \\\n",
       "0    1  Brisbane  Brisbane International  1/4/2016  ATP250      1        1   \n",
       "1    1  Brisbane  Brisbane International  1/4/2016  ATP250      1        1   \n",
       "2    1  Brisbane  Brisbane International  1/4/2016  ATP250      1        1   \n",
       "3    1  Brisbane  Brisbane International  1/4/2016  ATP250      1        1   \n",
       "4    1  Brisbane  Brisbane International  1/5/2016  ATP250      1        1   \n",
       "\n",
       "   Round  Best of       Winner  ...    EXW   EXL   LBW   LBL   PSW   PSL  \\\n",
       "0      1        3  Dimitrov G.  ...   1.68  2.10  1.62  2.25  1.68  2.31   \n",
       "1      1        3     Kudla D.  ...   1.58  2.35  1.53  2.50  1.63  2.40   \n",
       "2      1        3     Kamke T.  ...   1.82  1.90  1.80  2.00  1.90  1.99   \n",
       "3      1        3     Chung H.  ...   1.82  1.90  1.73  2.10  1.93  1.96   \n",
       "4      1        3    Goffin D.  ...   1.30  3.40  1.29  3.75  1.31  3.74   \n",
       "\n",
       "   MaxW  MaxL  AvgW  AvgL  \n",
       "0  1.68  2.31  1.66  2.19  \n",
       "1  1.63  2.50  1.57  2.41  \n",
       "2  1.90  2.00  1.81  1.97  \n",
       "3  1.93  2.10  1.83  1.95  \n",
       "4  1.31  3.75  1.30  3.60  \n",
       "\n",
       "[5 rows x 40 columns]"
      ]
     },
     "execution_count": 2,
     "metadata": {},
     "output_type": "execute_result"
    }
   ],
   "source": [
    "Tennisdata.head()"
   ]
  },
  {
   "cell_type": "markdown",
   "metadata": {},
   "source": [
    "## Data Cleaning & Feature Engineering"
   ]
  },
  {
   "cell_type": "raw",
   "metadata": {},
   "source": [
    "By studying the dataset, we realized that some of our features had to be changed to numeric values so that they can be used in the model. The following changes were made in excel to represent certain feature values with numbers:\n",
    "    Court : Indoor = 0 and Outdoor = 1\n",
    "    Surface: Hard = 1, Clay = 2, Grass = 3, Carpet = 4\n",
    "    Round: 0th Round = 0, 1st Round = 1, 2nd Round = 2, 3rd Round = 3,    4th Round=4, Quarterfinals=5, Round Robin=6, Semifinals=7, The Final=8    "
   ]
  },
  {
   "cell_type": "raw",
   "metadata": {},
   "source": [
    "Also, we realized that match results could be determined by retirement or walkovers due to injury. Since these two are difficult to factor into the model, we decided to use only data where the match was actually completed."
   ]
  },
  {
   "cell_type": "code",
   "execution_count": 3,
   "metadata": {
    "collapsed": true
   },
   "outputs": [],
   "source": [
    "Tennisdata = Tennisdata[Tennisdata['Comment'] == 'Completed']"
   ]
  },
  {
   "cell_type": "raw",
   "metadata": {},
   "source": [
    "The dataset contained games with both 3 sets and 5 sets. Since over 90% of the games were 3 set games, we decided to leave out the 5 set games, in order to improve data uniformity. "
   ]
  },
  {
   "cell_type": "code",
   "execution_count": 4,
   "metadata": {
    "collapsed": true
   },
   "outputs": [],
   "source": [
    "Tennisdata = Tennisdata[Tennisdata['Best of'] == 3]"
   ]
  },
  {
   "cell_type": "code",
   "execution_count": 5,
   "metadata": {
    "collapsed": false
   },
   "outputs": [
    {
     "data": {
      "text/plain": [
       "14276"
      ]
     },
     "execution_count": 5,
     "metadata": {},
     "output_type": "execute_result"
    }
   ],
   "source": [
    "len(Tennisdata)"
   ]
  },
  {
   "cell_type": "code",
   "execution_count": 6,
   "metadata": {
    "collapsed": false,
    "scrolled": true
   },
   "outputs": [
    {
     "data": {
      "text/html": [
       "<div>\n",
       "<table border=\"1\" class=\"dataframe\">\n",
       "  <thead>\n",
       "    <tr style=\"text-align: right;\">\n",
       "      <th></th>\n",
       "      <th>ATP</th>\n",
       "      <th>Location</th>\n",
       "      <th>Tournament</th>\n",
       "      <th>Date</th>\n",
       "      <th>Series</th>\n",
       "      <th>Court</th>\n",
       "      <th>Surface</th>\n",
       "      <th>Round</th>\n",
       "      <th>Best of</th>\n",
       "      <th>Winner</th>\n",
       "      <th>...</th>\n",
       "      <th>EXW</th>\n",
       "      <th>EXL</th>\n",
       "      <th>LBW</th>\n",
       "      <th>LBL</th>\n",
       "      <th>PSW</th>\n",
       "      <th>PSL</th>\n",
       "      <th>MaxW</th>\n",
       "      <th>MaxL</th>\n",
       "      <th>AvgW</th>\n",
       "      <th>AvgL</th>\n",
       "    </tr>\n",
       "  </thead>\n",
       "  <tbody>\n",
       "    <tr>\n",
       "      <th>0</th>\n",
       "      <td>1</td>\n",
       "      <td>Brisbane</td>\n",
       "      <td>Brisbane International</td>\n",
       "      <td>1/4/2016</td>\n",
       "      <td>ATP250</td>\n",
       "      <td>1</td>\n",
       "      <td>1</td>\n",
       "      <td>1</td>\n",
       "      <td>3</td>\n",
       "      <td>Dimitrov G.</td>\n",
       "      <td>...</td>\n",
       "      <td>1.68</td>\n",
       "      <td>2.10</td>\n",
       "      <td>1.62</td>\n",
       "      <td>2.25</td>\n",
       "      <td>1.68</td>\n",
       "      <td>2.31</td>\n",
       "      <td>1.68</td>\n",
       "      <td>2.31</td>\n",
       "      <td>1.66</td>\n",
       "      <td>2.19</td>\n",
       "    </tr>\n",
       "    <tr>\n",
       "      <th>1</th>\n",
       "      <td>1</td>\n",
       "      <td>Brisbane</td>\n",
       "      <td>Brisbane International</td>\n",
       "      <td>1/4/2016</td>\n",
       "      <td>ATP250</td>\n",
       "      <td>1</td>\n",
       "      <td>1</td>\n",
       "      <td>1</td>\n",
       "      <td>3</td>\n",
       "      <td>Kudla D.</td>\n",
       "      <td>...</td>\n",
       "      <td>1.58</td>\n",
       "      <td>2.35</td>\n",
       "      <td>1.53</td>\n",
       "      <td>2.50</td>\n",
       "      <td>1.63</td>\n",
       "      <td>2.40</td>\n",
       "      <td>1.63</td>\n",
       "      <td>2.50</td>\n",
       "      <td>1.57</td>\n",
       "      <td>2.41</td>\n",
       "    </tr>\n",
       "    <tr>\n",
       "      <th>2</th>\n",
       "      <td>1</td>\n",
       "      <td>Brisbane</td>\n",
       "      <td>Brisbane International</td>\n",
       "      <td>1/4/2016</td>\n",
       "      <td>ATP250</td>\n",
       "      <td>1</td>\n",
       "      <td>1</td>\n",
       "      <td>1</td>\n",
       "      <td>3</td>\n",
       "      <td>Kamke T.</td>\n",
       "      <td>...</td>\n",
       "      <td>1.82</td>\n",
       "      <td>1.90</td>\n",
       "      <td>1.80</td>\n",
       "      <td>2.00</td>\n",
       "      <td>1.90</td>\n",
       "      <td>1.99</td>\n",
       "      <td>1.90</td>\n",
       "      <td>2.00</td>\n",
       "      <td>1.81</td>\n",
       "      <td>1.97</td>\n",
       "    </tr>\n",
       "    <tr>\n",
       "      <th>3</th>\n",
       "      <td>1</td>\n",
       "      <td>Brisbane</td>\n",
       "      <td>Brisbane International</td>\n",
       "      <td>1/4/2016</td>\n",
       "      <td>ATP250</td>\n",
       "      <td>1</td>\n",
       "      <td>1</td>\n",
       "      <td>1</td>\n",
       "      <td>3</td>\n",
       "      <td>Chung H.</td>\n",
       "      <td>...</td>\n",
       "      <td>1.82</td>\n",
       "      <td>1.90</td>\n",
       "      <td>1.73</td>\n",
       "      <td>2.10</td>\n",
       "      <td>1.93</td>\n",
       "      <td>1.96</td>\n",
       "      <td>1.93</td>\n",
       "      <td>2.10</td>\n",
       "      <td>1.83</td>\n",
       "      <td>1.95</td>\n",
       "    </tr>\n",
       "    <tr>\n",
       "      <th>4</th>\n",
       "      <td>1</td>\n",
       "      <td>Brisbane</td>\n",
       "      <td>Brisbane International</td>\n",
       "      <td>1/5/2016</td>\n",
       "      <td>ATP250</td>\n",
       "      <td>1</td>\n",
       "      <td>1</td>\n",
       "      <td>1</td>\n",
       "      <td>3</td>\n",
       "      <td>Goffin D.</td>\n",
       "      <td>...</td>\n",
       "      <td>1.30</td>\n",
       "      <td>3.40</td>\n",
       "      <td>1.29</td>\n",
       "      <td>3.75</td>\n",
       "      <td>1.31</td>\n",
       "      <td>3.74</td>\n",
       "      <td>1.31</td>\n",
       "      <td>3.75</td>\n",
       "      <td>1.30</td>\n",
       "      <td>3.60</td>\n",
       "    </tr>\n",
       "  </tbody>\n",
       "</table>\n",
       "<p>5 rows × 40 columns</p>\n",
       "</div>"
      ],
      "text/plain": [
       "   ATP  Location              Tournament      Date  Series  Court  Surface  \\\n",
       "0    1  Brisbane  Brisbane International  1/4/2016  ATP250      1        1   \n",
       "1    1  Brisbane  Brisbane International  1/4/2016  ATP250      1        1   \n",
       "2    1  Brisbane  Brisbane International  1/4/2016  ATP250      1        1   \n",
       "3    1  Brisbane  Brisbane International  1/4/2016  ATP250      1        1   \n",
       "4    1  Brisbane  Brisbane International  1/5/2016  ATP250      1        1   \n",
       "\n",
       "   Round  Best of       Winner  ...    EXW   EXL   LBW   LBL   PSW   PSL  \\\n",
       "0      1        3  Dimitrov G.  ...   1.68  2.10  1.62  2.25  1.68  2.31   \n",
       "1      1        3     Kudla D.  ...   1.58  2.35  1.53  2.50  1.63  2.40   \n",
       "2      1        3     Kamke T.  ...   1.82  1.90  1.80  2.00  1.90  1.99   \n",
       "3      1        3     Chung H.  ...   1.82  1.90  1.73  2.10  1.93  1.96   \n",
       "4      1        3    Goffin D.  ...   1.30  3.40  1.29  3.75  1.31  3.74   \n",
       "\n",
       "   MaxW  MaxL  AvgW  AvgL  \n",
       "0  1.68  2.31  1.66  2.19  \n",
       "1  1.63  2.50  1.57  2.41  \n",
       "2  1.90  2.00  1.81  1.97  \n",
       "3  1.93  2.10  1.83  1.95  \n",
       "4  1.31  3.75  1.30  3.60  \n",
       "\n",
       "[5 rows x 40 columns]"
      ]
     },
     "execution_count": 6,
     "metadata": {},
     "output_type": "execute_result"
    }
   ],
   "source": [
    "Tennisdata.head()"
   ]
  },
  {
   "cell_type": "raw",
   "metadata": {},
   "source": [
    "Since our model will use both the pre-match statistics and betting odds, we will remove instances with some missing data."
   ]
  },
  {
   "cell_type": "code",
   "execution_count": 7,
   "metadata": {
    "collapsed": true
   },
   "outputs": [],
   "source": [
    "Tennisdata = Tennisdata[Tennisdata['Court'].notnull()== True]\n",
    "Tennisdata = Tennisdata[Tennisdata['Surface'].notnull()== True]\n",
    "Tennisdata = Tennisdata[Tennisdata['Round'].notnull()== True]\n",
    "Tennisdata = Tennisdata[Tennisdata['WRank'].notnull()== True]\n",
    "Tennisdata = Tennisdata[Tennisdata['LRank'].notnull()== True]\n",
    "Tennisdata = Tennisdata[Tennisdata['WPts'].notnull()== True]\n",
    "Tennisdata = Tennisdata[Tennisdata['LPts'].notnull()== True]\n",
    "Tennisdata = Tennisdata[Tennisdata['B365W'].notnull()== True]\n",
    "Tennisdata = Tennisdata[Tennisdata['B365L'].notnull()== True]\n",
    "Tennisdata = Tennisdata[Tennisdata['EXW'].notnull()== True]\n",
    "Tennisdata = Tennisdata[Tennisdata['EXL'].notnull()== True]\n",
    "Tennisdata = Tennisdata[Tennisdata['LBW'].notnull()== True]\n",
    "Tennisdata = Tennisdata[Tennisdata['LBL'].notnull()== True]\n",
    "Tennisdata = Tennisdata[Tennisdata['PSW'].notnull()== True]\n",
    "Tennisdata = Tennisdata[Tennisdata['PSL'].notnull()== True]\n",
    "Tennisdata = Tennisdata[Tennisdata['MaxW'].notnull()== True]\n",
    "Tennisdata = Tennisdata[Tennisdata['MaxL'].notnull()== True]\n",
    "Tennisdata = Tennisdata[Tennisdata['AvgW'].notnull()== True]\n",
    "Tennisdata = Tennisdata[Tennisdata['AvgL'].notnull()== True]"
   ]
  },
  {
   "cell_type": "code",
   "execution_count": 8,
   "metadata": {
    "collapsed": true
   },
   "outputs": [],
   "source": [
    "import numpy as np\n",
    "\n",
    "Tennisdata = Tennisdata[np.isfinite(Tennisdata['Court'])]\n",
    "Tennisdata = Tennisdata[np.isfinite(Tennisdata['Surface'])]\n",
    "Tennisdata = Tennisdata[np.isfinite(Tennisdata['Round'])]\n",
    "Tennisdata = Tennisdata[np.isfinite(Tennisdata['WRank'])]\n",
    "Tennisdata = Tennisdata[np.isfinite(Tennisdata['LRank'])]\n",
    "Tennisdata = Tennisdata[np.isfinite(Tennisdata['WPts'])]\n",
    "Tennisdata = Tennisdata[np.isfinite(Tennisdata['LPts'])]\n",
    "Tennisdata = Tennisdata[np.isfinite(Tennisdata['B365W'])]\n",
    "Tennisdata = Tennisdata[np.isfinite(Tennisdata['B365L'])]\n",
    "Tennisdata = Tennisdata[np.isfinite(Tennisdata['EXW'])]\n",
    "Tennisdata = Tennisdata[np.isfinite(Tennisdata['EXL'])]\n",
    "Tennisdata = Tennisdata[np.isfinite(Tennisdata['LBW'])]\n",
    "Tennisdata = Tennisdata[np.isfinite(Tennisdata['LBL'])]\n",
    "Tennisdata = Tennisdata[np.isfinite(Tennisdata['PSW'])]\n",
    "Tennisdata = Tennisdata[np.isfinite(Tennisdata['PSL'])]\n",
    "Tennisdata = Tennisdata[np.isfinite(Tennisdata['MaxW'])]\n",
    "Tennisdata = Tennisdata[np.isfinite(Tennisdata['MaxL'])]\n",
    "Tennisdata = Tennisdata[np.isfinite(Tennisdata['AvgW'])]\n",
    "Tennisdata = Tennisdata[np.isfinite(Tennisdata['AvgL'])]"
   ]
  },
  {
   "cell_type": "code",
   "execution_count": 9,
   "metadata": {
    "collapsed": false,
    "scrolled": false
   },
   "outputs": [],
   "source": [
    "Tennisdata.dropna(how='any', subset=['Court', 'Surface', 'Round', 'WRank', 'LRank', 'WPts','LPts','B365W', 'B365L', 'EXW','EXL','LBW','LBL','PSW','PSL','MaxW','MaxL','AvgW','AvgL'])\n",
    "\n",
    "Tennis = Tennisdata[['Court', 'Surface', 'Round', 'WRank', 'LRank', 'WPts','LPts','B365W', 'B365L', 'EXW','EXL','LBW','LBL','PSW','PSL','MaxW','MaxL','AvgW','AvgL']]"
   ]
  },
  {
   "cell_type": "raw",
   "metadata": {},
   "source": [
    "We will check the data type for all columns to make sure that our data is clean."
   ]
  },
  {
   "cell_type": "code",
   "execution_count": 10,
   "metadata": {
    "collapsed": false
   },
   "outputs": [
    {
     "data": {
      "text/plain": [
       "Court        int64\n",
       "Surface      int64\n",
       "Round        int64\n",
       "WRank      float64\n",
       "LRank      float64\n",
       "WPts       float64\n",
       "LPts       float64\n",
       "B365W      float64\n",
       "B365L      float64\n",
       "EXW        float64\n",
       "EXL        float64\n",
       "LBW        float64\n",
       "LBL        float64\n",
       "PSW        float64\n",
       "PSL        float64\n",
       "MaxW       float64\n",
       "MaxL       float64\n",
       "AvgW       float64\n",
       "AvgL       float64\n",
       "dtype: object"
      ]
     },
     "execution_count": 10,
     "metadata": {},
     "output_type": "execute_result"
    }
   ],
   "source": [
    "Tennis.dtypes"
   ]
  },
  {
   "cell_type": "raw",
   "metadata": {},
   "source": [
    "Since the goal is to build a model for pre-match predictions, we ignored the in-game statistics and made use of only the pre-game statistics (e.g. Court, Surface, WRank, LRank, WPts, LPts) as well as the betting odds from bookmakers. \n",
    "\n",
    "Also, the dataset presents statistics for winners and losers. So, it is impossible to build a model for predicting game outcomes, using the data as is. So, we transformed the data by creating the following new features: PlayerA, PlayerB, PlayerAPts and PlayerBPts. For every game, the player with the higher ranking  is set as PlayerA, with the rank number used instead of player name. Similarly, the lower-ranked player is set as PlayerB. In order to make the model generic, we used player ranks, instead of specific player names for each instance of the data. In this case, each of the two players (PlayerA, PlayerB) in a game, is represented by their ATP Ranking at the start of the tournament, instead of their individual names.\n",
    "\n",
    "We also suspected that the difference between player ranks and player points for the two players (as at the start of the tournament) could be important for our model. In football, baseball, snooker and other sports games, a similar principle known as the Elos rating, has been used. Therefore, we created two extra features, Rank_Diff: \n",
    "Rank_Diff = 'PlayerA Rank' - 'PlayerB Rank'\n",
    "Pt_Diff = 'PlayerA Pts' - 'PlayerB Pts'\n",
    "\n",
    "We also created a binary feature for the outcome of every match such that: win=1 and lose=0. \n",
    "This will be the (Y) for our binary classifier model. "
   ]
  },
  {
   "cell_type": "code",
   "execution_count": 11,
   "metadata": {
    "collapsed": false
   },
   "outputs": [
    {
     "name": "stderr",
     "output_type": "stream",
     "text": [
      "C:\\Anaconda2\\lib\\site-packages\\pandas\\core\\indexing.py:288: SettingWithCopyWarning: \n",
      "A value is trying to be set on a copy of a slice from a DataFrame.\n",
      "Try using .loc[row_indexer,col_indexer] = value instead\n",
      "\n",
      "See the caveats in the documentation: http://pandas.pydata.org/pandas-docs/stable/indexing.html#indexing-view-versus-copy\n",
      "  self.obj[key] = _infer_fill_value(value)\n",
      "C:\\Anaconda2\\lib\\site-packages\\pandas\\core\\indexing.py:465: SettingWithCopyWarning: \n",
      "A value is trying to be set on a copy of a slice from a DataFrame.\n",
      "Try using .loc[row_indexer,col_indexer] = value instead\n",
      "\n",
      "See the caveats in the documentation: http://pandas.pydata.org/pandas-docs/stable/indexing.html#indexing-view-versus-copy\n",
      "  self.obj[item] = s\n"
     ]
    }
   ],
   "source": [
    "Tennis.ix[Tennis.WRank > Tennis.LRank, 'PlayerA'] = Tennis['WRank']\n",
    "Tennis.ix[Tennis.WRank > Tennis.LRank, 'PlayerA_Pts'] = Tennis['WPts']\n",
    "Tennis.ix[Tennis.WRank > Tennis.LRank, 'PA_B365'] = Tennis['B365W']\n",
    "Tennis.ix[Tennis.WRank > Tennis.LRank, 'PA_EX'] = Tennis['EXW']\n",
    "Tennis.ix[Tennis.WRank > Tennis.LRank, 'PA_LB'] = Tennis['LBW']\n",
    "Tennis.ix[Tennis.WRank > Tennis.LRank, 'PA_PS'] = Tennis['PSW']\n",
    "Tennis.ix[Tennis.WRank > Tennis.LRank, 'PA_MaxBet'] = Tennis['MaxW']\n",
    "Tennis.ix[Tennis.WRank > Tennis.LRank, 'PA_AvgBet'] = Tennis['AvgW']\n",
    "Tennis.ix[Tennis.WRank > Tennis.LRank, 'PlayerB'] = Tennis['LRank']\n",
    "Tennis.ix[Tennis.WRank > Tennis.LRank, 'PlayerB_Pts'] = Tennis['LPts']\n",
    "Tennis.ix[Tennis.WRank > Tennis.LRank, 'PB_B365'] = Tennis['B365L']\n",
    "Tennis.ix[Tennis.WRank > Tennis.LRank, 'PB_EX'] = Tennis['EXL']\n",
    "Tennis.ix[Tennis.WRank > Tennis.LRank, 'PB_LB'] = Tennis['LBL']\n",
    "Tennis.ix[Tennis.WRank > Tennis.LRank, 'PB_PS'] = Tennis['PSL']\n",
    "Tennis.ix[Tennis.WRank > Tennis.LRank, 'PB_MaxBet'] = Tennis['MaxL']\n",
    "Tennis.ix[Tennis.WRank > Tennis.LRank, 'PB_AvgBet'] = Tennis['AvgL']\n",
    "Tennis.ix[Tennis.WRank > Tennis.LRank, 'Rank_Diff'] = Tennis['PlayerA'] - Tennis['PlayerB']\n",
    "Tennis.ix[Tennis.WRank > Tennis.LRank, 'Pt_Diff'] = Tennis['PlayerA_Pts'] - Tennis['PlayerB_Pts']\n",
    "Tennis.ix[Tennis.WRank > Tennis.LRank, 'Outcome'] = 1\n",
    "\n",
    "Tennis.ix[Tennis.WRank < Tennis.LRank, 'PlayerA'] = Tennis['LRank']\n",
    "Tennis.ix[Tennis.WRank < Tennis.LRank, 'PlayerA_Pts'] = Tennis['LPts']\n",
    "Tennis.ix[Tennis.WRank < Tennis.LRank, 'PA_B365'] = Tennis['B365L']\n",
    "Tennis.ix[Tennis.WRank < Tennis.LRank, 'PA_EX'] = Tennis['EXL']\n",
    "Tennis.ix[Tennis.WRank < Tennis.LRank, 'PA_LB'] = Tennis['LBL']\n",
    "Tennis.ix[Tennis.WRank < Tennis.LRank, 'PA_PS'] = Tennis['PSL']\n",
    "Tennis.ix[Tennis.WRank < Tennis.LRank, 'PA_MaxBet'] = Tennis['MaxL']\n",
    "Tennis.ix[Tennis.WRank < Tennis.LRank, 'PA_AvgBet'] = Tennis['AvgL']\n",
    "Tennis.ix[Tennis.WRank < Tennis.LRank, 'PlayerB'] = Tennis['WRank']\n",
    "Tennis.ix[Tennis.WRank < Tennis.LRank, 'PlayerB_Pts'] = Tennis['WPts']\n",
    "Tennis.ix[Tennis.WRank < Tennis.LRank, 'PB_B365'] = Tennis['B365W']\n",
    "Tennis.ix[Tennis.WRank < Tennis.LRank, 'PB_EX'] = Tennis['EXW']\n",
    "Tennis.ix[Tennis.WRank < Tennis.LRank, 'PB_LB'] = Tennis['LBW']\n",
    "Tennis.ix[Tennis.WRank < Tennis.LRank, 'PB_PS'] = Tennis['PSW']\n",
    "Tennis.ix[Tennis.WRank < Tennis.LRank, 'PB_MaxBet'] = Tennis['MaxW']\n",
    "Tennis.ix[Tennis.WRank < Tennis.LRank, 'PB_AvgBet'] = Tennis['AvgW']\n",
    "Tennis.ix[Tennis.WRank < Tennis.LRank, 'Rank_Diff'] = Tennis['PlayerA'] - Tennis['PlayerB']\n",
    "Tennis.ix[Tennis.WRank < Tennis.LRank, 'Pt_Diff'] = Tennis['PlayerA_Pts'] - Tennis['PlayerB_Pts']\n",
    "Tennis.ix[Tennis.WRank < Tennis.LRank, 'Outcome'] = 0"
   ]
  },
  {
   "cell_type": "code",
   "execution_count": 12,
   "metadata": {
    "collapsed": false
   },
   "outputs": [
    {
     "data": {
      "text/html": [
       "<div>\n",
       "<table border=\"1\" class=\"dataframe\">\n",
       "  <thead>\n",
       "    <tr style=\"text-align: right;\">\n",
       "      <th></th>\n",
       "      <th>Court</th>\n",
       "      <th>Surface</th>\n",
       "      <th>Round</th>\n",
       "      <th>WRank</th>\n",
       "      <th>LRank</th>\n",
       "      <th>WPts</th>\n",
       "      <th>LPts</th>\n",
       "      <th>B365W</th>\n",
       "      <th>B365L</th>\n",
       "      <th>EXW</th>\n",
       "      <th>...</th>\n",
       "      <th>PlayerB_Pts</th>\n",
       "      <th>PB_B365</th>\n",
       "      <th>PB_EX</th>\n",
       "      <th>PB_LB</th>\n",
       "      <th>PB_PS</th>\n",
       "      <th>PB_MaxBet</th>\n",
       "      <th>PB_AvgBet</th>\n",
       "      <th>Rank_Diff</th>\n",
       "      <th>Pt_Diff</th>\n",
       "      <th>Outcome</th>\n",
       "    </tr>\n",
       "  </thead>\n",
       "  <tbody>\n",
       "    <tr>\n",
       "      <th>0</th>\n",
       "      <td>1</td>\n",
       "      <td>1</td>\n",
       "      <td>1</td>\n",
       "      <td>28.0</td>\n",
       "      <td>15.0</td>\n",
       "      <td>1360.0</td>\n",
       "      <td>2145.0</td>\n",
       "      <td>1.66</td>\n",
       "      <td>2.10</td>\n",
       "      <td>1.68</td>\n",
       "      <td>...</td>\n",
       "      <td>2145.0</td>\n",
       "      <td>2.10</td>\n",
       "      <td>2.10</td>\n",
       "      <td>2.25</td>\n",
       "      <td>2.31</td>\n",
       "      <td>2.31</td>\n",
       "      <td>2.19</td>\n",
       "      <td>13.0</td>\n",
       "      <td>-785.0</td>\n",
       "      <td>1.0</td>\n",
       "    </tr>\n",
       "    <tr>\n",
       "      <th>1</th>\n",
       "      <td>1</td>\n",
       "      <td>1</td>\n",
       "      <td>1</td>\n",
       "      <td>69.0</td>\n",
       "      <td>129.0</td>\n",
       "      <td>719.0</td>\n",
       "      <td>459.0</td>\n",
       "      <td>1.53</td>\n",
       "      <td>2.37</td>\n",
       "      <td>1.58</td>\n",
       "      <td>...</td>\n",
       "      <td>719.0</td>\n",
       "      <td>1.53</td>\n",
       "      <td>1.58</td>\n",
       "      <td>1.53</td>\n",
       "      <td>1.63</td>\n",
       "      <td>1.63</td>\n",
       "      <td>1.57</td>\n",
       "      <td>60.0</td>\n",
       "      <td>-260.0</td>\n",
       "      <td>0.0</td>\n",
       "    </tr>\n",
       "    <tr>\n",
       "      <th>2</th>\n",
       "      <td>1</td>\n",
       "      <td>1</td>\n",
       "      <td>1</td>\n",
       "      <td>277.0</td>\n",
       "      <td>231.0</td>\n",
       "      <td>185.0</td>\n",
       "      <td>225.0</td>\n",
       "      <td>1.72</td>\n",
       "      <td>2.00</td>\n",
       "      <td>1.82</td>\n",
       "      <td>...</td>\n",
       "      <td>225.0</td>\n",
       "      <td>2.00</td>\n",
       "      <td>1.90</td>\n",
       "      <td>2.00</td>\n",
       "      <td>1.99</td>\n",
       "      <td>2.00</td>\n",
       "      <td>1.97</td>\n",
       "      <td>46.0</td>\n",
       "      <td>-40.0</td>\n",
       "      <td>1.0</td>\n",
       "    </tr>\n",
       "    <tr>\n",
       "      <th>3</th>\n",
       "      <td>1</td>\n",
       "      <td>1</td>\n",
       "      <td>1</td>\n",
       "      <td>51.0</td>\n",
       "      <td>60.0</td>\n",
       "      <td>817.0</td>\n",
       "      <td>782.0</td>\n",
       "      <td>1.83</td>\n",
       "      <td>1.83</td>\n",
       "      <td>1.82</td>\n",
       "      <td>...</td>\n",
       "      <td>817.0</td>\n",
       "      <td>1.83</td>\n",
       "      <td>1.82</td>\n",
       "      <td>1.73</td>\n",
       "      <td>1.93</td>\n",
       "      <td>1.93</td>\n",
       "      <td>1.83</td>\n",
       "      <td>9.0</td>\n",
       "      <td>-35.0</td>\n",
       "      <td>0.0</td>\n",
       "    </tr>\n",
       "    <tr>\n",
       "      <th>4</th>\n",
       "      <td>1</td>\n",
       "      <td>1</td>\n",
       "      <td>1</td>\n",
       "      <td>16.0</td>\n",
       "      <td>37.0</td>\n",
       "      <td>1880.0</td>\n",
       "      <td>1105.0</td>\n",
       "      <td>1.28</td>\n",
       "      <td>3.50</td>\n",
       "      <td>1.30</td>\n",
       "      <td>...</td>\n",
       "      <td>1880.0</td>\n",
       "      <td>1.28</td>\n",
       "      <td>1.30</td>\n",
       "      <td>1.29</td>\n",
       "      <td>1.31</td>\n",
       "      <td>1.31</td>\n",
       "      <td>1.30</td>\n",
       "      <td>21.0</td>\n",
       "      <td>-775.0</td>\n",
       "      <td>0.0</td>\n",
       "    </tr>\n",
       "  </tbody>\n",
       "</table>\n",
       "<p>5 rows × 38 columns</p>\n",
       "</div>"
      ],
      "text/plain": [
       "   Court  Surface  Round  WRank  LRank    WPts    LPts  B365W  B365L   EXW  \\\n",
       "0      1        1      1   28.0   15.0  1360.0  2145.0   1.66   2.10  1.68   \n",
       "1      1        1      1   69.0  129.0   719.0   459.0   1.53   2.37  1.58   \n",
       "2      1        1      1  277.0  231.0   185.0   225.0   1.72   2.00  1.82   \n",
       "3      1        1      1   51.0   60.0   817.0   782.0   1.83   1.83  1.82   \n",
       "4      1        1      1   16.0   37.0  1880.0  1105.0   1.28   3.50  1.30   \n",
       "\n",
       "    ...     PlayerB_Pts  PB_B365  PB_EX  PB_LB  PB_PS  PB_MaxBet  PB_AvgBet  \\\n",
       "0   ...          2145.0     2.10   2.10   2.25   2.31       2.31       2.19   \n",
       "1   ...           719.0     1.53   1.58   1.53   1.63       1.63       1.57   \n",
       "2   ...           225.0     2.00   1.90   2.00   1.99       2.00       1.97   \n",
       "3   ...           817.0     1.83   1.82   1.73   1.93       1.93       1.83   \n",
       "4   ...          1880.0     1.28   1.30   1.29   1.31       1.31       1.30   \n",
       "\n",
       "   Rank_Diff  Pt_Diff  Outcome  \n",
       "0       13.0   -785.0      1.0  \n",
       "1       60.0   -260.0      0.0  \n",
       "2       46.0    -40.0      1.0  \n",
       "3        9.0    -35.0      0.0  \n",
       "4       21.0   -775.0      0.0  \n",
       "\n",
       "[5 rows x 38 columns]"
      ]
     },
     "execution_count": 12,
     "metadata": {},
     "output_type": "execute_result"
    }
   ],
   "source": [
    "Tennis.head()"
   ]
  },
  {
   "cell_type": "raw",
   "metadata": {},
   "source": [
    "There are too many features. We will reduce the data to only features that will be used in building the model. "
   ]
  },
  {
   "cell_type": "code",
   "execution_count": 13,
   "metadata": {
    "collapsed": true
   },
   "outputs": [],
   "source": [
    "Tennis = Tennis[['Court', 'Surface', 'Round','PlayerA','PlayerA_Pts','PA_B365','PA_EX','PA_LB','PA_PS',\\\n",
    "                 'PA_MaxBet','PA_AvgBet','PlayerB','PlayerB_Pts','PB_B365','PB_EX','PB_LB','PB_PS',\\\n",
    "                 'PB_MaxBet','PB_AvgBet','Rank_Diff','Pt_Diff','Outcome']]"
   ]
  },
  {
   "cell_type": "code",
   "execution_count": 14,
   "metadata": {
    "collapsed": false
   },
   "outputs": [
    {
     "data": {
      "text/html": [
       "<div>\n",
       "<table border=\"1\" class=\"dataframe\">\n",
       "  <thead>\n",
       "    <tr style=\"text-align: right;\">\n",
       "      <th></th>\n",
       "      <th>Court</th>\n",
       "      <th>Surface</th>\n",
       "      <th>Round</th>\n",
       "      <th>PlayerA</th>\n",
       "      <th>PlayerA_Pts</th>\n",
       "      <th>PA_B365</th>\n",
       "      <th>PA_EX</th>\n",
       "      <th>PA_LB</th>\n",
       "      <th>PA_PS</th>\n",
       "      <th>PA_MaxBet</th>\n",
       "      <th>...</th>\n",
       "      <th>PlayerB_Pts</th>\n",
       "      <th>PB_B365</th>\n",
       "      <th>PB_EX</th>\n",
       "      <th>PB_LB</th>\n",
       "      <th>PB_PS</th>\n",
       "      <th>PB_MaxBet</th>\n",
       "      <th>PB_AvgBet</th>\n",
       "      <th>Rank_Diff</th>\n",
       "      <th>Pt_Diff</th>\n",
       "      <th>Outcome</th>\n",
       "    </tr>\n",
       "  </thead>\n",
       "  <tbody>\n",
       "    <tr>\n",
       "      <th>0</th>\n",
       "      <td>1</td>\n",
       "      <td>1</td>\n",
       "      <td>1</td>\n",
       "      <td>28.0</td>\n",
       "      <td>1360.0</td>\n",
       "      <td>1.66</td>\n",
       "      <td>1.68</td>\n",
       "      <td>1.62</td>\n",
       "      <td>1.68</td>\n",
       "      <td>1.68</td>\n",
       "      <td>...</td>\n",
       "      <td>2145.0</td>\n",
       "      <td>2.10</td>\n",
       "      <td>2.10</td>\n",
       "      <td>2.25</td>\n",
       "      <td>2.31</td>\n",
       "      <td>2.31</td>\n",
       "      <td>2.19</td>\n",
       "      <td>13.0</td>\n",
       "      <td>-785.0</td>\n",
       "      <td>1.0</td>\n",
       "    </tr>\n",
       "    <tr>\n",
       "      <th>1</th>\n",
       "      <td>1</td>\n",
       "      <td>1</td>\n",
       "      <td>1</td>\n",
       "      <td>129.0</td>\n",
       "      <td>459.0</td>\n",
       "      <td>2.37</td>\n",
       "      <td>2.35</td>\n",
       "      <td>2.50</td>\n",
       "      <td>2.40</td>\n",
       "      <td>2.50</td>\n",
       "      <td>...</td>\n",
       "      <td>719.0</td>\n",
       "      <td>1.53</td>\n",
       "      <td>1.58</td>\n",
       "      <td>1.53</td>\n",
       "      <td>1.63</td>\n",
       "      <td>1.63</td>\n",
       "      <td>1.57</td>\n",
       "      <td>60.0</td>\n",
       "      <td>-260.0</td>\n",
       "      <td>0.0</td>\n",
       "    </tr>\n",
       "    <tr>\n",
       "      <th>2</th>\n",
       "      <td>1</td>\n",
       "      <td>1</td>\n",
       "      <td>1</td>\n",
       "      <td>277.0</td>\n",
       "      <td>185.0</td>\n",
       "      <td>1.72</td>\n",
       "      <td>1.82</td>\n",
       "      <td>1.80</td>\n",
       "      <td>1.90</td>\n",
       "      <td>1.90</td>\n",
       "      <td>...</td>\n",
       "      <td>225.0</td>\n",
       "      <td>2.00</td>\n",
       "      <td>1.90</td>\n",
       "      <td>2.00</td>\n",
       "      <td>1.99</td>\n",
       "      <td>2.00</td>\n",
       "      <td>1.97</td>\n",
       "      <td>46.0</td>\n",
       "      <td>-40.0</td>\n",
       "      <td>1.0</td>\n",
       "    </tr>\n",
       "    <tr>\n",
       "      <th>3</th>\n",
       "      <td>1</td>\n",
       "      <td>1</td>\n",
       "      <td>1</td>\n",
       "      <td>60.0</td>\n",
       "      <td>782.0</td>\n",
       "      <td>1.83</td>\n",
       "      <td>1.90</td>\n",
       "      <td>2.10</td>\n",
       "      <td>1.96</td>\n",
       "      <td>2.10</td>\n",
       "      <td>...</td>\n",
       "      <td>817.0</td>\n",
       "      <td>1.83</td>\n",
       "      <td>1.82</td>\n",
       "      <td>1.73</td>\n",
       "      <td>1.93</td>\n",
       "      <td>1.93</td>\n",
       "      <td>1.83</td>\n",
       "      <td>9.0</td>\n",
       "      <td>-35.0</td>\n",
       "      <td>0.0</td>\n",
       "    </tr>\n",
       "    <tr>\n",
       "      <th>4</th>\n",
       "      <td>1</td>\n",
       "      <td>1</td>\n",
       "      <td>1</td>\n",
       "      <td>37.0</td>\n",
       "      <td>1105.0</td>\n",
       "      <td>3.50</td>\n",
       "      <td>3.40</td>\n",
       "      <td>3.75</td>\n",
       "      <td>3.74</td>\n",
       "      <td>3.75</td>\n",
       "      <td>...</td>\n",
       "      <td>1880.0</td>\n",
       "      <td>1.28</td>\n",
       "      <td>1.30</td>\n",
       "      <td>1.29</td>\n",
       "      <td>1.31</td>\n",
       "      <td>1.31</td>\n",
       "      <td>1.30</td>\n",
       "      <td>21.0</td>\n",
       "      <td>-775.0</td>\n",
       "      <td>0.0</td>\n",
       "    </tr>\n",
       "  </tbody>\n",
       "</table>\n",
       "<p>5 rows × 22 columns</p>\n",
       "</div>"
      ],
      "text/plain": [
       "   Court  Surface  Round  PlayerA  PlayerA_Pts  PA_B365  PA_EX  PA_LB  PA_PS  \\\n",
       "0      1        1      1     28.0       1360.0     1.66   1.68   1.62   1.68   \n",
       "1      1        1      1    129.0        459.0     2.37   2.35   2.50   2.40   \n",
       "2      1        1      1    277.0        185.0     1.72   1.82   1.80   1.90   \n",
       "3      1        1      1     60.0        782.0     1.83   1.90   2.10   1.96   \n",
       "4      1        1      1     37.0       1105.0     3.50   3.40   3.75   3.74   \n",
       "\n",
       "   PA_MaxBet   ...     PlayerB_Pts  PB_B365  PB_EX  PB_LB  PB_PS  PB_MaxBet  \\\n",
       "0       1.68   ...          2145.0     2.10   2.10   2.25   2.31       2.31   \n",
       "1       2.50   ...           719.0     1.53   1.58   1.53   1.63       1.63   \n",
       "2       1.90   ...           225.0     2.00   1.90   2.00   1.99       2.00   \n",
       "3       2.10   ...           817.0     1.83   1.82   1.73   1.93       1.93   \n",
       "4       3.75   ...          1880.0     1.28   1.30   1.29   1.31       1.31   \n",
       "\n",
       "   PB_AvgBet  Rank_Diff  Pt_Diff  Outcome  \n",
       "0       2.19       13.0   -785.0      1.0  \n",
       "1       1.57       60.0   -260.0      0.0  \n",
       "2       1.97       46.0    -40.0      1.0  \n",
       "3       1.83        9.0    -35.0      0.0  \n",
       "4       1.30       21.0   -775.0      0.0  \n",
       "\n",
       "[5 rows x 22 columns]"
      ]
     },
     "execution_count": 14,
     "metadata": {},
     "output_type": "execute_result"
    }
   ],
   "source": [
    "Tennis.head()"
   ]
  },
  {
   "cell_type": "raw",
   "metadata": {},
   "source": [
    "We want to change the 'Outcome' column to integers "
   ]
  },
  {
   "cell_type": "raw",
   "metadata": {},
   "source": [
    "We will find and delete all rows with NA or NaN data"
   ]
  },
  {
   "cell_type": "code",
   "execution_count": 15,
   "metadata": {
    "collapsed": false
   },
   "outputs": [
    {
     "data": {
      "text/html": [
       "<div>\n",
       "<table border=\"1\" class=\"dataframe\">\n",
       "  <thead>\n",
       "    <tr style=\"text-align: right;\">\n",
       "      <th></th>\n",
       "      <th>Court</th>\n",
       "      <th>Surface</th>\n",
       "      <th>Round</th>\n",
       "      <th>PlayerA</th>\n",
       "      <th>PlayerA_Pts</th>\n",
       "      <th>PA_B365</th>\n",
       "      <th>PA_EX</th>\n",
       "      <th>PA_LB</th>\n",
       "      <th>PA_PS</th>\n",
       "      <th>PA_MaxBet</th>\n",
       "      <th>...</th>\n",
       "      <th>PlayerB_Pts</th>\n",
       "      <th>PB_B365</th>\n",
       "      <th>PB_EX</th>\n",
       "      <th>PB_LB</th>\n",
       "      <th>PB_PS</th>\n",
       "      <th>PB_MaxBet</th>\n",
       "      <th>PB_AvgBet</th>\n",
       "      <th>Rank_Diff</th>\n",
       "      <th>Pt_Diff</th>\n",
       "      <th>Outcome</th>\n",
       "    </tr>\n",
       "  </thead>\n",
       "  <tbody>\n",
       "    <tr>\n",
       "      <th>10705</th>\n",
       "      <td>1</td>\n",
       "      <td>2</td>\n",
       "      <td>1</td>\n",
       "      <td>NaN</td>\n",
       "      <td>NaN</td>\n",
       "      <td>NaN</td>\n",
       "      <td>NaN</td>\n",
       "      <td>NaN</td>\n",
       "      <td>NaN</td>\n",
       "      <td>NaN</td>\n",
       "      <td>...</td>\n",
       "      <td>NaN</td>\n",
       "      <td>NaN</td>\n",
       "      <td>NaN</td>\n",
       "      <td>NaN</td>\n",
       "      <td>NaN</td>\n",
       "      <td>NaN</td>\n",
       "      <td>NaN</td>\n",
       "      <td>NaN</td>\n",
       "      <td>NaN</td>\n",
       "      <td>NaN</td>\n",
       "    </tr>\n",
       "  </tbody>\n",
       "</table>\n",
       "<p>1 rows × 22 columns</p>\n",
       "</div>"
      ],
      "text/plain": [
       "       Court  Surface  Round  PlayerA  PlayerA_Pts  PA_B365  PA_EX  PA_LB  \\\n",
       "10705      1        2      1      NaN          NaN      NaN    NaN    NaN   \n",
       "\n",
       "       PA_PS  PA_MaxBet   ...     PlayerB_Pts  PB_B365  PB_EX  PB_LB  PB_PS  \\\n",
       "10705    NaN        NaN   ...             NaN      NaN    NaN    NaN    NaN   \n",
       "\n",
       "       PB_MaxBet  PB_AvgBet  Rank_Diff  Pt_Diff  Outcome  \n",
       "10705        NaN        NaN        NaN      NaN      NaN  \n",
       "\n",
       "[1 rows x 22 columns]"
      ]
     },
     "execution_count": 15,
     "metadata": {},
     "output_type": "execute_result"
    }
   ],
   "source": [
    "Tennis = Tennis.reset_index(drop=True)\n",
    "Tennis[Tennis.isnull().any(axis=1)]"
   ]
  },
  {
   "cell_type": "code",
   "execution_count": 16,
   "metadata": {
    "collapsed": false
   },
   "outputs": [],
   "source": [
    "Tennis = Tennis.drop(Tennis.index[[10705]])"
   ]
  },
  {
   "cell_type": "code",
   "execution_count": 17,
   "metadata": {
    "collapsed": false
   },
   "outputs": [
    {
     "data": {
      "text/html": [
       "<div>\n",
       "<table border=\"1\" class=\"dataframe\">\n",
       "  <thead>\n",
       "    <tr style=\"text-align: right;\">\n",
       "      <th></th>\n",
       "      <th>Court</th>\n",
       "      <th>Surface</th>\n",
       "      <th>Round</th>\n",
       "      <th>PlayerA</th>\n",
       "      <th>PlayerA_Pts</th>\n",
       "      <th>PA_B365</th>\n",
       "      <th>PA_EX</th>\n",
       "      <th>PA_LB</th>\n",
       "      <th>PA_PS</th>\n",
       "      <th>PA_MaxBet</th>\n",
       "      <th>...</th>\n",
       "      <th>PlayerB_Pts</th>\n",
       "      <th>PB_B365</th>\n",
       "      <th>PB_EX</th>\n",
       "      <th>PB_LB</th>\n",
       "      <th>PB_PS</th>\n",
       "      <th>PB_MaxBet</th>\n",
       "      <th>PB_AvgBet</th>\n",
       "      <th>Rank_Diff</th>\n",
       "      <th>Pt_Diff</th>\n",
       "      <th>Outcome</th>\n",
       "    </tr>\n",
       "  </thead>\n",
       "  <tbody>\n",
       "  </tbody>\n",
       "</table>\n",
       "<p>0 rows × 22 columns</p>\n",
       "</div>"
      ],
      "text/plain": [
       "Empty DataFrame\n",
       "Columns: [Court, Surface, Round, PlayerA, PlayerA_Pts, PA_B365, PA_EX, PA_LB, PA_PS, PA_MaxBet, PA_AvgBet, PlayerB, PlayerB_Pts, PB_B365, PB_EX, PB_LB, PB_PS, PB_MaxBet, PB_AvgBet, Rank_Diff, Pt_Diff, Outcome]\n",
       "Index: []\n",
       "\n",
       "[0 rows x 22 columns]"
      ]
     },
     "execution_count": 17,
     "metadata": {},
     "output_type": "execute_result"
    }
   ],
   "source": [
    "Tennis[Tennis.isnull().any(axis=1)]"
   ]
  },
  {
   "cell_type": "code",
   "execution_count": 18,
   "metadata": {
    "collapsed": false
   },
   "outputs": [],
   "source": [
    "Tennis.Outcome.astype(int);"
   ]
  },
  {
   "cell_type": "raw",
   "metadata": {},
   "source": [
    "The original data is sorted by tournament and this can lead to skewed model results. Therefore, we will sort the data by 'randomising' the index to reduce bias when splitting the data into train and test sets."
   ]
  },
  {
   "cell_type": "code",
   "execution_count": 19,
   "metadata": {
    "collapsed": false
   },
   "outputs": [],
   "source": [
    "Tennis = Tennis.sort_values(['PA_B365'], ascending=True)\n",
    "Tennis = Tennis.reset_index(drop=True)"
   ]
  },
  {
   "cell_type": "markdown",
   "metadata": {},
   "source": [
    "### Model Selection"
   ]
  },
  {
   "cell_type": "code",
   "execution_count": 20,
   "metadata": {
    "collapsed": false
   },
   "outputs": [],
   "source": [
    "import numpy as np\n",
    "import scipy as sp\n",
    "import sklearn as sk"
   ]
  },
  {
   "cell_type": "code",
   "execution_count": 21,
   "metadata": {
    "collapsed": false
   },
   "outputs": [
    {
     "data": {
      "text/plain": [
       "14004"
      ]
     },
     "execution_count": 21,
     "metadata": {},
     "output_type": "execute_result"
    }
   ],
   "source": [
    "len(Tennis)"
   ]
  },
  {
   "cell_type": "raw",
   "metadata": {},
   "source": [
    "Data Splitting: 80% of the data will be used for training and cross-validation. \n",
    "The remaining 20% will be used for testing.\n",
    "We will also separate the data into X and Y for both train and test sets."
   ]
  },
  {
   "cell_type": "code",
   "execution_count": 22,
   "metadata": {
    "collapsed": false
   },
   "outputs": [],
   "source": [
    "trainset = Tennis[:(int(0.8*len(Tennis)))]\n",
    "testset = Tennis.tail(int(0.2*len(Tennis)))"
   ]
  },
  {
   "cell_type": "code",
   "execution_count": 23,
   "metadata": {
    "collapsed": true
   },
   "outputs": [],
   "source": [
    "X_trainset = trainset[['Court', 'Surface', 'Round','PlayerA','PlayerA_Pts','PA_B365','PA_EX','PA_LB','PA_PS',\\\n",
    "                 'PA_MaxBet','PA_AvgBet','PlayerB','PlayerB_Pts','PB_B365','PB_EX','PB_LB','PB_PS',\\\n",
    "                 'PB_MaxBet','PB_AvgBet','Rank_Diff','Pt_Diff']]\n",
    "X_testset = testset[['Court', 'Surface', 'Round','PlayerA','PlayerA_Pts','PA_B365','PA_EX','PA_LB','PA_PS',\\\n",
    "                 'PA_MaxBet','PA_AvgBet','PlayerB','PlayerB_Pts','PB_B365','PB_EX','PB_LB','PB_PS',\\\n",
    "                 'PB_MaxBet','PB_AvgBet','Rank_Diff','Pt_Diff']]\n",
    "Y_trainset = trainset['Outcome']\n",
    "Y_testset = testset['Outcome']"
   ]
  },
  {
   "cell_type": "markdown",
   "metadata": {
    "collapsed": true
   },
   "source": [
    "#### Trying Different Models"
   ]
  },
  {
   "cell_type": "raw",
   "metadata": {
    "collapsed": true
   },
   "source": [
    "As part of the model selection process, we will carry out a 10-fold cross validation on the train data using different ML techniques. For the model selection stage, we will use the ML package, Scikit Learn and evaluate the models based on their cross-validation accuracy.\n",
    "We will then select one of the models with good prediction accuracy and build it from scratch, using knowledge gained in the Comp Sci 5402 Machine Learning class."
   ]
  },
  {
   "cell_type": "code",
   "execution_count": 25,
   "metadata": {
    "collapsed": false
   },
   "outputs": [
    {
     "name": "stdout",
     "output_type": "stream",
     "text": [
      "Accuracy: -0.01 (+/- 0.05)\n"
     ]
    }
   ],
   "source": [
    "# Try Linear Regression \n",
    "from sklearn import linear_model\n",
    "from sklearn.cross_validation import cross_val_score\n",
    "model = linear_model.LinearRegression()\n",
    "scores = cross_val_score(model, X_trainset, Y_trainset, cv=10)\n",
    "print(\"Accuracy: %0.2f (+/- %0.2f)\" % (scores.mean(), scores.std() * 2))"
   ]
  },
  {
   "cell_type": "code",
   "execution_count": 26,
   "metadata": {
    "collapsed": false
   },
   "outputs": [
    {
     "name": "stdout",
     "output_type": "stream",
     "text": [
      "Accuracy: 0.64 (+/- 0.31)\n"
     ]
    }
   ],
   "source": [
    "# Try Logistic Regression\n",
    "from sklearn import linear_model\n",
    "from sklearn.cross_validation import cross_val_score\n",
    "model = linear_model.LogisticRegression()\n",
    "scores = cross_val_score(model, X_trainset, Y_trainset, cv=10)\n",
    "print(\"Accuracy: %0.2f (+/- %0.2f)\" % (scores.mean(), scores.std() * 2))"
   ]
  },
  {
   "cell_type": "code",
   "execution_count": 27,
   "metadata": {
    "collapsed": false
   },
   "outputs": [
    {
     "name": "stdout",
     "output_type": "stream",
     "text": [
      "Accuracy: 0.54 (+/- 0.15)\n"
     ]
    }
   ],
   "source": [
    "# Try Linear Support Vector Classifier(SVC)\n",
    "from sklearn import svm\n",
    "from sklearn.cross_validation import cross_val_score\n",
    "model = svm.LinearSVC()\n",
    "scores = cross_val_score(model, X_trainset, Y_trainset, cv=10)\n",
    "print(\"Accuracy: %0.2f (+/- %0.2f)\" % (scores.mean(), scores.std() * 2))"
   ]
  },
  {
   "cell_type": "code",
   "execution_count": 28,
   "metadata": {
    "collapsed": false
   },
   "outputs": [
    {
     "name": "stdout",
     "output_type": "stream",
     "text": [
      "Accuracy: 0.60 (+/- 0.01)\n"
     ]
    }
   ],
   "source": [
    "# Try NuSVC\n",
    "from sklearn import svm\n",
    "model = svm.NuSVC()\n",
    "scores = cross_val_score(model, X_trainset, Y_trainset, cv=10)\n",
    "print(\"Accuracy: %0.2f (+/- %0.2f)\" % (scores.mean(), scores.std() * 2))"
   ]
  },
  {
   "cell_type": "code",
   "execution_count": 29,
   "metadata": {
    "collapsed": false
   },
   "outputs": [
    {
     "name": "stdout",
     "output_type": "stream",
     "text": [
      "Accuracy: 0.60 (+/- 0.00)\n"
     ]
    }
   ],
   "source": [
    "# Try RBF Kernel SVM\n",
    "from sklearn import svm\n",
    "model = svm.SVC(kernel = 'rbf')\n",
    "scores = cross_val_score(model, X_trainset, Y_trainset, cv=10)\n",
    "print(\"Accuracy: %0.2f (+/- %0.2f)\" % (scores.mean(), scores.std() * 2))"
   ]
  },
  {
   "cell_type": "code",
   "execution_count": 30,
   "metadata": {
    "collapsed": false
   },
   "outputs": [
    {
     "name": "stdout",
     "output_type": "stream",
     "text": [
      "Accuracy: 0.64 (+/- 0.34)\n"
     ]
    }
   ],
   "source": [
    "# Try Gaussian NB\n",
    "from sklearn.naive_bayes import GaussianNB\n",
    "model = GaussianNB()\n",
    "scores = cross_val_score(model, X_trainset, Y_trainset, cv=10)\n",
    "print(\"Accuracy: %0.2f (+/- %0.2f)\" % (scores.mean(), scores.std() * 2))"
   ]
  },
  {
   "cell_type": "code",
   "execution_count": 31,
   "metadata": {
    "collapsed": false
   },
   "outputs": [
    {
     "name": "stdout",
     "output_type": "stream",
     "text": [
      "Accuracy: 0.60 (+/- 0.00)\n"
     ]
    }
   ],
   "source": [
    "# Try Bernoulli NB\n",
    "from sklearn.naive_bayes import BernoulliNB\n",
    "model = BernoulliNB()\n",
    "scores = cross_val_score(model, X_trainset, Y_trainset, cv=10)\n",
    "print(\"Accuracy: %0.2f (+/- %0.2f)\" % (scores.mean(), scores.std() * 2))"
   ]
  },
  {
   "cell_type": "code",
   "execution_count": 32,
   "metadata": {
    "collapsed": false
   },
   "outputs": [
    {
     "name": "stdout",
     "output_type": "stream",
     "text": [
      "Accuracy: 0.54 (+/- 0.18)\n"
     ]
    }
   ],
   "source": [
    "# Try SGDClassifier\n",
    "import numpy as np\n",
    "from sklearn.linear_model import SGDClassifier\n",
    "model = SGDClassifier(loss=\"hinge\", penalty=\"l2\")\n",
    "scores = cross_val_score(model, X_trainset, Y_trainset, cv=10)\n",
    "print(\"Accuracy: %0.2f (+/- %0.2f)\" % (scores.mean(), scores.std() * 2))"
   ]
  },
  {
   "cell_type": "code",
   "execution_count": 33,
   "metadata": {
    "collapsed": false
   },
   "outputs": [
    {
     "name": "stdout",
     "output_type": "stream",
     "text": [
      "Accuracy: 0.54 (+/- 0.03)\n"
     ]
    }
   ],
   "source": [
    "# Try K Nearest Neighbors\n",
    "import numpy as np\n",
    "from sklearn import neighbors\n",
    "model = neighbors.KNeighborsClassifier(n_neighbors=3)\n",
    "scores = cross_val_score(model, X_trainset, Y_trainset, cv=10)\n",
    "print(\"Accuracy: %0.2f (+/- %0.2f)\" % (scores.mean(), scores.std() * 2))"
   ]
  },
  {
   "cell_type": "markdown",
   "metadata": {},
   "source": [
    "### Results"
   ]
  },
  {
   "cell_type": "markdown",
   "metadata": {},
   "source": [
    "![alt text](Pred_Accuracy1.png)"
   ]
  },
  {
   "cell_type": "markdown",
   "metadata": {},
   "source": [
    "## Building our own Logistic Regression Model in Matlab"
   ]
  },
  {
   "cell_type": "raw",
   "metadata": {},
   "source": [
    "We will export the train and test data sets for use in Matlab"
   ]
  },
  {
   "cell_type": "code",
   "execution_count": 37,
   "metadata": {
    "collapsed": true
   },
   "outputs": [],
   "source": [
    "trainset.to_csv(\"G:/Dropboxx/PhD Mining Engineering/Coursework/07FS2016_local/COMP SCI 5402 - Machine Learning/Project/train_data.csv\")\n",
    "testset.to_csv(\"G:/Dropboxx/PhD Mining Engineering/Coursework/07FS2016_local/COMP SCI 5402 - Machine Learning/Project/test_data.csv\")"
   ]
  },
  {
   "cell_type": "markdown",
   "metadata": {},
   "source": [
    "#### Matlab Code"
   ]
  },
  {
   "cell_type": "markdown",
   "metadata": {},
   "source": [
    "![alt text](logreg1.png)"
   ]
  },
  {
   "cell_type": "markdown",
   "metadata": {
    "collapsed": true
   },
   "source": [
    "![alt text](logreg2.png)"
   ]
  },
  {
   "cell_type": "raw",
   "metadata": {
    "collapsed": true
   },
   "source": [
    "The full matlab code is in the file \"logReg.m\""
   ]
  },
  {
   "cell_type": "raw",
   "metadata": {},
   "source": [
    "The Logistic Regression is employed to binary classify the explanatory variable representing the winning result. Further, 10 fold cross validation method is used to validate the generated model on the test data. The winning prediction varies every time the model is trained and evaluated as the training and test data are selected on random basis each time for 10 fold. Roughly, the accuracy of the model is observed to hover around the range 60%-65%. The step size (alpha) defines the performance of a model. Below are the results obtained with alpha=0.001. The accuracy is less than 58% in this case."
   ]
  },
  {
   "cell_type": "markdown",
   "metadata": {},
   "source": [
    "![alt text](error-rate.png)"
   ]
  },
  {
   "cell_type": "raw",
   "metadata": {},
   "source": [
    "As can be deduced from the above set of results, the 10-fold cross validation performance is impacted primarily by the two components (3rd and 8th) of the 10-fold system, which tilted the scales from the average error otherwise tending to be less than 40 to -what it ended up to be- 42. Arguably, the training data must have been badly scattered in these two cases that the learning must have been bad resulting in bad fit and hence the bad validation results.\n",
    "Moving on, however, running the model over a range of alpha values can help us decide on the alpha value that consistently delivers best results. The below attached graph (Fig 1) is one such attempt where the error rate is plotted against its corresponding alpha value. The best performance is observed at alpha value of 0.001. The model takes about 2 hours for a single run. And so due to this computational expense as well as the limited high computing resources at our disposal, we were unable to try more alpha values for better parameter tuning. However, in future we intend to experiment more alpha values to arrive at the best accuracy possible.\n"
   ]
  },
  {
   "cell_type": "markdown",
   "metadata": {},
   "source": [
    "![alt text](Performance_1.png)"
   ]
  },
  {
   "cell_type": "markdown",
   "metadata": {
    "collapsed": true
   },
   "source": [
    "### CONCLUSION"
   ]
  },
  {
   "cell_type": "raw",
   "metadata": {
    "collapsed": true
   },
   "source": [
    "In this project, we explored the ability of Machine Learning techniques to predict the outcome of tennis games. Unlike previous tennis models, our model incorporates all the following features along with others: the betting odds from four major bookmakers, player point difference and player rank difference. In all, our model had 22 features. The Linear Regression, Support Vector Machine(linear kernel), Support Vector Machine(polynomial kernel), RBF Kernel SVM, K-Nearest Neighbor and the Stochastic Gradient Descent (SGD) classifiers were tested using the train data. The best model was obtained with Logistic Regression, which gave 64% cross-validation accuracy and 60% accuracy on the test data. By comparison with previous tennis models, it can be concluded that our model performs fairly well and gives predictions which are in the ballpark of current good tennis models. For the RBF Kernel SVM, better results may have been obtained by tuning gamma and C. This will be explored in future works. Also, future works will focuss on engineering more features and training the data on other ML classifier models such as DecisionTrees, Gradient Boosting methods, Neural Networks and Random Forest in an attempt to obtain better predictive performance.   "
   ]
  },
  {
   "cell_type": "markdown",
   "metadata": {
    "collapsed": true
   },
   "source": [
    "### REFERENCES"
   ]
  },
  {
   "cell_type": "raw",
   "metadata": {},
   "source": [
    "[1] Pempus, B. (2015). Global Sports Betting At Minimum A $1.3 Trillion Industry, Expert Tells United Nations. Retrieved from http://www.cardplayer.com/poker-news/18683-global-sports-betting-at-minimum-a-1-3-trillion-industry-expert-tells-united-nations\n",
    "\n",
    "[2] Aziz, J. (2014). How did Americans manage to lose $119 billion gambling last year? Retrieved from http://theweek.com/articles/451623/how-did-americans-manage-lose-119-billion-gambling-last-year\n",
    "\n",
    "[3] Sipko, Michal, and William Knottenbelt. (2015). \"Machine Learning for the Prediction of Professional Tennis Matches.\", Final Project, Imperial College London, London, UK. \n",
    "\n",
    "[4] Mathis, Simon. (2012). \"Prediction of Tennis Results.\" \n",
    "\n",
    "[5] T. Barnett and S. R. Clarke. (2005). Combining player statistics to predict outcomes of tennis matches.IMA Journal of Management Mathematics, 16:113–120.\n",
    "\n",
    "[6] J. A. O’Malley. (2008). Probability Formulas and Statistical Analysis in Tennis. Journal of Quantitative Analysis in Sports.\n",
    "\n",
    "[7] W. J. Knottenbelt, D. Spanias, and A. M. Madurska. (2012). A common-opponent stochastic model for predicting the outcome of professional tennis matches. Computers and Mathematics with Applications,64:3820–3827.\n",
    "\n",
    "[8] A. M. Madurska. (2012). A Set-By-Set Analysis Method for Predicting the Outcome of Professional Singles Tennis Matches. Technical report, Imperial College London, London.\n",
    "\n",
    "[9] A. Somboonphokkaphan, S. Phimoltares, and C. Lursinsap. (2009) Tennis Winner Prediction based on Time-Series History with Neural Modeling. IMECS 2009: International Multi-Conference of Engineers and Computer Scientists, Vols I and II, I:127–132."
   ]
  }
 ],
 "metadata": {
  "anaconda-cloud": {},
  "kernelspec": {
   "display_name": "Python 2",
   "language": "python",
   "name": "python2"
  },
  "language_info": {
   "codemirror_mode": {
    "name": "ipython",
    "version": 2
   },
   "file_extension": ".py",
   "mimetype": "text/x-python",
   "name": "python",
   "nbconvert_exporter": "python",
   "pygments_lexer": "ipython2",
   "version": "2.7.12"
  }
 },
 "nbformat": 4,
 "nbformat_minor": 0
}
